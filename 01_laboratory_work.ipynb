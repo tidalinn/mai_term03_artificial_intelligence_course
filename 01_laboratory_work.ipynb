{
 "cells": [
  {
   "cell_type": "markdown",
   "id": "88fd24b5",
   "metadata": {},
   "source": [
    "<h1>Содержание<span class=\"tocSkip\"></span></h1>\n",
    "<br>\n",
    "<div class=\"toc\">\n",
    "    <ul class=\"toc-item\">\n",
    "        <li>\n",
    "            <span>\n",
    "                <a href=\"#1-Подготовка-окружения\">\n",
    "                    <span class=\"toc-item-num\">1&nbsp;&nbsp;</span>\n",
    "                    Подготовка окружения\n",
    "                </a>\n",
    "            </span>\n",
    "        </li>\n",
    "        <li>\n",
    "            <span>\n",
    "                <a href=\"#2-Трансфигурация-в-разные-формы-представления-данных\">\n",
    "                    <span class=\"toc-item-num\">2&nbsp;&nbsp;</span>\n",
    "                    Трансфигурация в разные формы представления данных\n",
    "                </a>\n",
    "            </span>\n",
    "            <ul class=\"toc-item\">\n",
    "                <li>\n",
    "                    <span>\n",
    "                        <a href=\"#2.1-Воксели\">\n",
    "                            <span class=\"toc-item-num\">2.1&nbsp;&nbsp;</span>\n",
    "                            Воксели\n",
    "                        </a>\n",
    "                    </span>\n",
    "                </li>\n",
    "                <li>\n",
    "                    <span>\n",
    "                        <a href=\"#2.2-Облако-точек\">\n",
    "                            <span class=\"toc-item-num\">2.2&nbsp;&nbsp;</span>\n",
    "                            Облако точек\n",
    "                        </a>\n",
    "                    </span>\n",
    "                </li>\n",
    "                <li>\n",
    "                    <span>\n",
    "                        <a href=\"#2.3-Функциональная-модель\">\n",
    "                            <span class=\"toc-item-num\">2.3&nbsp;&nbsp;</span>\n",
    "                            Функциональная модель\n",
    "                        </a>\n",
    "                    </span>\n",
    "                </li>\n",
    "                <li>\n",
    "                    <span>\n",
    "                        <a href=\"#2.4-Карта-глубины\">\n",
    "                            <span class=\"toc-item-num\">2.4&nbsp;&nbsp;</span>\n",
    "                            Карта глубины\n",
    "                        </a>\n",
    "                    </span>\n",
    "                </li>\n",
    "            </ul>\n",
    "        </li>\n",
    "        <li>\n",
    "            <span>\n",
    "                <a href=\"#3-Общий вывод\">\n",
    "                    <span class=\"toc-item-num\">3&nbsp;&nbsp;</span>\n",
    "                    Общий вывод\n",
    "                </a>\n",
    "            </span>\n",
    "        </li>\n",
    "    </ul>\n",
    "</div>"
   ]
  },
  {
   "cell_type": "markdown",
   "id": "83691bbd",
   "metadata": {},
   "source": [
    "# Лабораторная работа №1: Трансфигурация 3D-модели в разные формы представления данных"
   ]
  },
  {
   "cell_type": "markdown",
   "id": "d9ae3ffe",
   "metadata": {},
   "source": [
    "**Задача:** трансфигурировать 3D-модель в разные формы представления данных.\n",
    "\n",
    "**Источники данных:** [sketchfab.com](https://sketchfab.com/)\n",
    "\n",
    "* [`black_dragon`](https://sketchfab.com/3d-models/black-dragon-73b252c7e24d452b9db626abfbecc2a5)\n",
    "* [`dragon_without_wings`](https://sketchfab.com/3d-models/mcfarlanes-dragons-eternal-clan-wo-wings-98fa5a879a9c46fc82f6160f84428304)\n",
    "* [`ice_dragon`](https://sketchfab.com/3d-models/ice-dragon-4ef3ac18a3834ba1bda8933d04c61f45)\n",
    "\n",
    "**Описание данных:** 3D-модели драконов."
   ]
  },
  {
   "cell_type": "markdown",
   "id": "66765e44",
   "metadata": {},
   "source": [
    "<div style=\"background-color: blue; height: 2px; margin: 10px 0;\"></div>"
   ]
  },
  {
   "cell_type": "markdown",
   "id": "3ac33c6b",
   "metadata": {},
   "source": [
    "## 1. Подготовка окружения"
   ]
  },
  {
   "cell_type": "markdown",
   "id": "a54dec40",
   "metadata": {},
   "source": [
    "Импорт библиотек:"
   ]
  },
  {
   "cell_type": "code",
   "execution_count": null,
   "id": "fc0e73ef",
   "metadata": {},
   "outputs": [],
   "source": []
  },
  {
   "cell_type": "markdown",
   "id": "fe643ec2",
   "metadata": {},
   "source": []
  },
  {
   "cell_type": "markdown",
   "id": "4d371b88",
   "metadata": {},
   "source": [
    "<div style=\"background-color: blue; height: 2px; margin: 10px 0;\"></div>"
   ]
  },
  {
   "cell_type": "markdown",
   "id": "2f75e284",
   "metadata": {},
   "source": [
    "## 2. Трансфигурация в разные формы представления данных¶"
   ]
  },
  {
   "cell_type": "markdown",
   "id": "046eeef0",
   "metadata": {},
   "source": []
  },
  {
   "cell_type": "markdown",
   "id": "64c87d49",
   "metadata": {},
   "source": [
    "---"
   ]
  },
  {
   "cell_type": "markdown",
   "id": "6ddfa9fb",
   "metadata": {},
   "source": [
    "### 2.1 Воксели"
   ]
  },
  {
   "cell_type": "markdown",
   "id": "b983e731",
   "metadata": {},
   "source": []
  },
  {
   "cell_type": "markdown",
   "id": "c0ab0cf3",
   "metadata": {},
   "source": [
    "---"
   ]
  },
  {
   "cell_type": "markdown",
   "id": "2fdbef96",
   "metadata": {},
   "source": [
    "### 2.2 Облако точек"
   ]
  },
  {
   "cell_type": "markdown",
   "id": "589c32ac",
   "metadata": {},
   "source": []
  },
  {
   "cell_type": "markdown",
   "id": "a702fa9a",
   "metadata": {},
   "source": [
    "---"
   ]
  },
  {
   "cell_type": "markdown",
   "id": "983cfe94",
   "metadata": {},
   "source": [
    "### 2.3 Функциональная модель"
   ]
  },
  {
   "cell_type": "markdown",
   "id": "d1bf22c0",
   "metadata": {},
   "source": []
  },
  {
   "cell_type": "markdown",
   "id": "5de1f591",
   "metadata": {},
   "source": [
    "---"
   ]
  },
  {
   "cell_type": "markdown",
   "id": "5fbc7e29",
   "metadata": {},
   "source": [
    "### 2.4 Карта глубины"
   ]
  },
  {
   "cell_type": "markdown",
   "id": "8870bac9",
   "metadata": {},
   "source": []
  },
  {
   "cell_type": "markdown",
   "id": "adf23432",
   "metadata": {},
   "source": [
    "<div style=\"background-color: blue; height: 2px; margin: 10px 0;\"></div>"
   ]
  },
  {
   "cell_type": "markdown",
   "id": "60bb6f6b",
   "metadata": {},
   "source": [
    "## 3. Общий вывод"
   ]
  },
  {
   "cell_type": "markdown",
   "id": "8d0f2e12",
   "metadata": {},
   "source": [
    "<div style=\"text-align: center; font-size: 20px; padding: 15px 0;\">\n",
    "    <a href=\"#Содержание\" data-toc-modified-id=\"Содержание\" style=\"text-decoration: none; color: #296eaa; border: 2px dashed #296eaa; opacity: 0.8; border-radius: 3px; padding: 10px 80px;\">\n",
    "        В начало файла ↑\n",
    "    </a>\n",
    "</div>"
   ]
  }
 ],
 "metadata": {
  "kernelspec": {
   "display_name": "Python 3 (ipykernel)",
   "language": "python",
   "name": "python3"
  },
  "language_info": {
   "codemirror_mode": {
    "name": "ipython",
    "version": 3
   },
   "file_extension": ".py",
   "mimetype": "text/x-python",
   "name": "python",
   "nbconvert_exporter": "python",
   "pygments_lexer": "ipython3",
   "version": "3.10.11"
  }
 },
 "nbformat": 4,
 "nbformat_minor": 5
}
